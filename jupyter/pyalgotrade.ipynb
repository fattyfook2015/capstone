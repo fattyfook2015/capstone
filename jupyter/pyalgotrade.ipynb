{
 "cells": [
  {
   "cell_type": "code",
   "execution_count": null,
   "metadata": {
    "scrolled": false
   },
   "outputs": [],
   "source": [
    "from __future__ import print_function\n",
    "\n",
    "from pyalgotrade import strategy\n",
    "from pyalgotrade.barfeed import quandlfeed\n",
    "from pyalgotrade.technical import ma\n",
    "\n",
    "\n",
    "class MyStrategy(strategy.BacktestingStrategy):\n",
    "    \n",
    "    def __init__(self, feed, instrument, smaPeriod):\n",
    "        super(MyStrategy, self).__init__(feed, 1000)\n",
    "        self.__position = None\n",
    "        self.__instrument = instrument\n",
    "        # We'll use adjusted close values instead of regular close values.\n",
    "        self.setUseAdjustedValues(True)\n",
    "        self.__sma = ma.SMA(feed[instrument].getPriceDataSeries(), smaPeriod)\n",
    "\n",
    "    def onEnterOk(self, position):\n",
    "        execInfo = position.getEntryOrder().getExecutionInfo()\n",
    "        self.info(\"BUY at $%.2f\" % (execInfo.getPrice()))\n",
    "\n",
    "    def onEnterCanceled(self, position):\n",
    "        self.__position = None\n",
    "\n",
    "    def onExitOk(self, position):\n",
    "        execInfo = position.getExitOrder().getExecutionInfo()\n",
    "        self.info(\"SELL at $%.2f\" % (execInfo.getPrice()))\n",
    "        self.__position = None\n",
    "\n",
    "    def onExitCanceled(self, position):\n",
    "        # If the exit was canceled, re-submit it.\n",
    "        self.__position.exitMarket()\n",
    "\n",
    "    def onBars(self, bars):\n",
    "        # Wait for enough bars to be available to calculate a SMA.\n",
    "        if self.__sma[-1] is None:\n",
    "            return\n",
    "\n",
    "        bar = bars[self.__instrument]\n",
    "        # If a position was not opened, check if we should enter a long position.\n",
    "        if self.__position is None:\n",
    "            if bar.getPrice() > self.__sma[-1]:\n",
    "                # Enter a buy market order for 10 shares. The order is good till canceled.\n",
    "                self.__position = self.enterLong(self.__instrument, 10, True)\n",
    "        # Check if we have to exit the position.\n",
    "        elif bar.getPrice() < self.__sma[-1] and not self.__position.exitActive():\n",
    "            self.__position.exitMarket()\n",
    "\n",
    "\n",
    "def run_strategy(smaPeriod):\n",
    "    # Load the bar feed from the CSV file\n",
    "    feed = quandlfeed.Feed()\n",
    "    feed.addBarsFromCSV(\"orcl\", \"WIKI-ORCL-2000-quandl.csv\")\n",
    "\n",
    "    # Evaluate the strategy with the feed.\n",
    "    myStrategy = MyStrategy(feed, \"orcl\", smaPeriod)\n",
    "    myStrategy.run()\n",
    "    print(\"Final portfolio value: $%.2f\" % myStrategy.getBroker().getEquity())\n",
    "\n",
    "for i in range(10, 30):\n",
    "    run_strategy(i)"
   ]
  },
  {
   "cell_type": "code",
   "execution_count": 6,
   "metadata": {},
   "outputs": [
    {
     "name": "stderr",
     "output_type": "stream",
     "text": [
      "2020-01-30 11:25:52,896 quandl [INFO] Downloading IBM 2017 to .\\WIKI-IBM-2017-quandl.csv\n",
      "2020-01-30 11:25:54,819 quandl [INFO] Downloading IBM 2018 to .\\WIKI-IBM-2018-quandl.csv\n",
      "2020-01-30 11:25:56,378 quandl [INFO] Downloading IBM 2019 to .\\WIKI-IBM-2019-quandl.csv\n",
      "2020-01-30 11:25:57,939 quandl [INFO] Downloading IBM 2020 to .\\WIKI-IBM-2020-quandl.csv\n"
     ]
    }
   ],
   "source": [
    "!python -m \"pyalgotrade.tools.quandl\" --source-code=\"WIKI\" --table-code=\"IBM\" --from-year=2017 --to-year=2020 --storage=. --force-download --frequency=daily"
   ]
  }
 ],
 "metadata": {
  "kernelspec": {
   "display_name": "Python 3",
   "language": "python",
   "name": "python3"
  },
  "language_info": {
   "codemirror_mode": {
    "name": "ipython",
    "version": 3
   },
   "file_extension": ".py",
   "mimetype": "text/x-python",
   "name": "python",
   "nbconvert_exporter": "python",
   "pygments_lexer": "ipython3",
   "version": "3.7.4"
  }
 },
 "nbformat": 4,
 "nbformat_minor": 2
}
