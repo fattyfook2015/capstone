{
 "cells": [
  {
   "cell_type": "code",
   "execution_count": 1,
   "metadata": {},
   "outputs": [
    {
     "name": "stdout",
     "output_type": "stream",
     "text": [
      "Connecting to the PostgreSQL database...\n",
      "('PostgreSQL 11.5 on x86_64-pc-linux-gnu, compiled by gcc (Debian 7.3.0-5) 7.3.0, 64-bit',)\n"
     ]
    }
   ],
   "source": [
    "import numpy as np\n",
    "import pandas as pd\n",
    "\n",
    "from pmdarima import auto_arima\n",
    "\n",
    "import utils.AlphaVantageUtils as av\n",
    "import utils.PostgresUtils as pg\n",
    "import utils.ModelUtils as mdl"
   ]
  },
  {
   "cell_type": "code",
   "execution_count": 13,
   "metadata": {},
   "outputs": [
    {
     "data": {
      "text/html": [
       "<div>\n",
       "<style scoped>\n",
       "    .dataframe tbody tr th:only-of-type {\n",
       "        vertical-align: middle;\n",
       "    }\n",
       "\n",
       "    .dataframe tbody tr th {\n",
       "        vertical-align: top;\n",
       "    }\n",
       "\n",
       "    .dataframe thead th {\n",
       "        text-align: right;\n",
       "    }\n",
       "</style>\n",
       "<table border=\"1\" class=\"dataframe\">\n",
       "  <thead>\n",
       "    <tr style=\"text-align: right;\">\n",
       "      <th></th>\n",
       "      <th>open</th>\n",
       "      <th>high</th>\n",
       "      <th>low</th>\n",
       "      <th>close</th>\n",
       "    </tr>\n",
       "    <tr>\n",
       "      <th>datetime</th>\n",
       "      <th></th>\n",
       "      <th></th>\n",
       "      <th></th>\n",
       "      <th></th>\n",
       "    </tr>\n",
       "  </thead>\n",
       "  <tbody>\n",
       "    <tr>\n",
       "      <th>2000-01-20</th>\n",
       "      <td>107.06</td>\n",
       "      <td>109.69</td>\n",
       "      <td>105.87</td>\n",
       "      <td>106.00</td>\n",
       "    </tr>\n",
       "    <tr>\n",
       "      <th>2000-01-21</th>\n",
       "      <td>107.00</td>\n",
       "      <td>107.25</td>\n",
       "      <td>103.25</td>\n",
       "      <td>103.75</td>\n",
       "    </tr>\n",
       "    <tr>\n",
       "      <th>2000-01-24</th>\n",
       "      <td>103.80</td>\n",
       "      <td>105.69</td>\n",
       "      <td>100.81</td>\n",
       "      <td>101.25</td>\n",
       "    </tr>\n",
       "    <tr>\n",
       "      <th>2000-01-25</th>\n",
       "      <td>101.00</td>\n",
       "      <td>103.87</td>\n",
       "      <td>99.56</td>\n",
       "      <td>102.81</td>\n",
       "    </tr>\n",
       "    <tr>\n",
       "      <th>2000-01-26</th>\n",
       "      <td>102.44</td>\n",
       "      <td>103.50</td>\n",
       "      <td>99.12</td>\n",
       "      <td>99.37</td>\n",
       "    </tr>\n",
       "  </tbody>\n",
       "</table>\n",
       "</div>"
      ],
      "text/plain": [
       "              open    high     low   close\n",
       "datetime                                  \n",
       "2000-01-20  107.06  109.69  105.87  106.00\n",
       "2000-01-21  107.00  107.25  103.25  103.75\n",
       "2000-01-24  103.80  105.69  100.81  101.25\n",
       "2000-01-25  101.00  103.87   99.56  102.81\n",
       "2000-01-26  102.44  103.50   99.12   99.37"
      ]
     },
     "execution_count": 13,
     "metadata": {},
     "output_type": "execute_result"
    }
   ],
   "source": [
    "df_prices = pg.get_prices(av._TIC_MICROSOFT, av._INT_DAILY, None, None, None)\n",
    "\n",
    "df_prices.index = df_prices[pg._COL_DATETIME]\n",
    "\n",
    "df_prices.drop(columns=[pg._COL_DATETIME, pg._COL_ID, pg._COL_TICKER, pg._COL_INTERVAL, pg._COL_VOLUME], inplace=True)\n",
    "\n",
    "df_prices.sort_values(by=pg._COL_DATETIME, inplace=True)\n",
    "\n",
    "df_prices.head()"
   ]
  },
  {
   "cell_type": "code",
   "execution_count": 17,
   "metadata": {},
   "outputs": [],
   "source": [
    "df_train, df_test = mdl.train_test_split(df_prices, 0.1)\n",
    "\n",
    "train = df_train[pg._COL_CLOSE]\n",
    "test = df_test[pg._COL_CLOSE]"
   ]
  },
  {
   "cell_type": "code",
   "execution_count": 18,
   "metadata": {},
   "outputs": [
    {
     "data": {
      "text/plain": [
       "((5033, 4), (4530, 4), (503, 4))"
      ]
     },
     "execution_count": 18,
     "metadata": {},
     "output_type": "execute_result"
    }
   ],
   "source": [
    "df_prices.shape, df_train.shape, df_test.shape"
   ]
  },
  {
   "cell_type": "code",
   "execution_count": 23,
   "metadata": {},
   "outputs": [
    {
     "data": {
      "text/plain": [
       "(Timestamp('2000-01-20 00:00:00'),\n",
       " Timestamp('2018-01-22 00:00:00'),\n",
       " Timestamp('2018-01-23 00:00:00'),\n",
       " Timestamp('2020-01-22 00:00:00'))"
      ]
     },
     "execution_count": 23,
     "metadata": {},
     "output_type": "execute_result"
    }
   ],
   "source": [
    "min(train.index), max(train.index), min(test.index), max(test.index)"
   ]
  },
  {
   "cell_type": "code",
   "execution_count": null,
   "metadata": {
    "scrolled": false
   },
   "outputs": [
    {
     "name": "stdout",
     "output_type": "stream",
     "text": [
      "Fit ARIMA: order=(1, 1, 1) seasonal_order=(0, 1, 1, 12); AIC=12901.291, BIC=12933.369, Fit time=98.744 seconds\n",
      "Fit ARIMA: order=(0, 1, 0) seasonal_order=(0, 1, 0, 12); AIC=15790.643, BIC=15803.474, Fit time=0.929 seconds\n",
      "Fit ARIMA: order=(1, 1, 0) seasonal_order=(1, 1, 0, 12); AIC=14565.318, BIC=14590.981, Fit time=17.826 seconds\n",
      "Fit ARIMA: order=(0, 1, 1) seasonal_order=(0, 1, 1, 12); AIC=12895.698, BIC=12921.360, Fit time=79.861 seconds\n",
      "Near non-invertible roots for order (0, 1, 1)(0, 1, 1, 12); setting score to inf (at least one inverse root too close to the border of the unit circle: 1.000)\n",
      "Fit ARIMA: order=(0, 1, 0) seasonal_order=(0, 1, 0, 12); AIC=15788.645, BIC=15795.061, Fit time=1.048 seconds\n",
      "Fit ARIMA: order=(1, 1, 1) seasonal_order=(0, 1, 0, 12); AIC=15593.828, BIC=15619.491, Fit time=38.242 seconds\n",
      "Near non-invertible roots for order (1, 1, 1)(0, 1, 0, 12); setting score to inf (at least one inverse root too close to the border of the unit circle: 1.000)\n",
      "Fit ARIMA: order=(1, 1, 1) seasonal_order=(1, 1, 1, 12); AIC=12899.361, BIC=12937.855, Fit time=99.896 seconds\n",
      "Near non-invertible roots for order (1, 1, 1)(1, 1, 1, 12); setting score to inf (at least one inverse root too close to the border of the unit circle: 1.000)\n",
      "Fit ARIMA: order=(1, 1, 1) seasonal_order=(0, 1, 2, 12); AIC=12899.232, BIC=12937.726, Fit time=509.329 seconds\n",
      "Near non-invertible roots for order (1, 1, 1)(0, 1, 2, 12); setting score to inf (at least one inverse root too close to the border of the unit circle: 1.000)\n",
      "Fit ARIMA: order=(1, 1, 1) seasonal_order=(1, 1, 0, 12); AIC=14568.319, BIC=14600.397, Fit time=23.135 seconds\n",
      "Fit ARIMA: order=(1, 1, 1) seasonal_order=(1, 1, 2, 12); AIC=12900.364, BIC=12945.274, Fit time=236.471 seconds\n",
      "Near non-invertible roots for order (1, 1, 1)(1, 1, 2, 12); setting score to inf (at least one inverse root too close to the border of the unit circle: 0.999)\n",
      "Fit ARIMA: order=(1, 1, 0) seasonal_order=(0, 1, 1, 12); AIC=12895.536, BIC=12921.199, Fit time=40.076 seconds\n",
      "Near non-invertible roots for order (1, 1, 0)(0, 1, 1, 12); setting score to inf (at least one inverse root too close to the border of the unit circle: 1.000)\n",
      "Fit ARIMA: order=(2, 1, 1) seasonal_order=(0, 1, 1, 12); AIC=12898.874, BIC=12937.368, Fit time=62.906 seconds\n",
      "Near non-invertible roots for order (2, 1, 1)(0, 1, 1, 12); setting score to inf (at least one inverse root too close to the border of the unit circle: 1.000)\n",
      "Fit ARIMA: order=(1, 1, 2) seasonal_order=(0, 1, 1, 12); AIC=12899.589, BIC=12938.082, Fit time=67.804 seconds\n",
      "Near non-invertible roots for order (1, 1, 2)(0, 1, 1, 12); setting score to inf (at least one inverse root too close to the border of the unit circle: 1.000)\n",
      "Fit ARIMA: order=(0, 1, 0) seasonal_order=(0, 1, 1, 12); AIC=12901.650, BIC=12920.897, Fit time=31.559 seconds\n",
      "Near non-invertible roots for order (0, 1, 0)(0, 1, 1, 12); setting score to inf (at least one inverse root too close to the border of the unit circle: 1.000)\n",
      "Fit ARIMA: order=(0, 1, 2) seasonal_order=(0, 1, 1, 12); AIC=12897.368, BIC=12929.446, Fit time=72.477 seconds\n",
      "Near non-invertible roots for order (0, 1, 2)(0, 1, 1, 12); setting score to inf (at least one inverse root too close to the border of the unit circle: 1.000)\n"
     ]
    }
   ],
   "source": [
    "model = auto_arima(train, start_p=1, start_q=1, max_p=3, max_q=3, m=12, start_P=0, seasonal=True, d=1, D=1, \n",
    "                   trace=True, error_action='ignore', suppress_warnings=True)\n",
    "model.fit(train)\n",
    "\n",
    "forecast = model.predict(n_periods=len(test))\n",
    "\n",
    "forecast = pd.DataFrame(forecast, index=test.index, columns=['prediction'])"
   ]
  },
  {
   "cell_type": "code",
   "execution_count": null,
   "metadata": {},
   "outputs": [],
   "source": [
    "rms = np.sqrt(np.mean(np.power((np.array(test)-np.array(forecast['prediction'])),2)))\n",
    "rms"
   ]
  },
  {
   "cell_type": "code",
   "execution_count": null,
   "metadata": {},
   "outputs": [],
   "source": [
    "import matplotlib.pyplot as plt\n",
    "\n",
    "plt.figure(figsize=(16,8))\n",
    "\n",
    "# Plot\n",
    "plt.plot(train)\n",
    "plt.plot(test)\n",
    "plt.plot(forecast['prediction'])"
   ]
  }
 ],
 "metadata": {
  "kernelspec": {
   "display_name": "Python 3",
   "language": "python",
   "name": "python3"
  },
  "language_info": {
   "codemirror_mode": {
    "name": "ipython",
    "version": 3
   },
   "file_extension": ".py",
   "mimetype": "text/x-python",
   "name": "python",
   "nbconvert_exporter": "python",
   "pygments_lexer": "ipython3",
   "version": "3.7.4"
  }
 },
 "nbformat": 4,
 "nbformat_minor": 2
}
