{
 "cells": [
  {
   "cell_type": "code",
   "execution_count": 2,
   "metadata": {},
   "outputs": [
    {
     "name": "stdout",
     "output_type": "stream",
     "text": [
      "Connecting to the PostgreSQL database...\n",
      "('PostgreSQL 11.5 on x86_64-pc-linux-gnu, compiled by gcc (Debian 7.3.0-5) 7.3.0, 64-bit',)\n"
     ]
    }
   ],
   "source": [
    "import numpy as np\n",
    "import pandas as pd\n",
    "\n",
    "from fbprophet import Prophet\n",
    "\n",
    "import utils.AlphaVantageUtils as av\n",
    "import utils.PostgresUtils as pg\n",
    "import utils.ModelUtils as mdl"
   ]
  },
  {
   "cell_type": "code",
   "execution_count": 14,
   "metadata": {},
   "outputs": [
    {
     "data": {
      "text/html": [
       "<div>\n",
       "<style scoped>\n",
       "    .dataframe tbody tr th:only-of-type {\n",
       "        vertical-align: middle;\n",
       "    }\n",
       "\n",
       "    .dataframe tbody tr th {\n",
       "        vertical-align: top;\n",
       "    }\n",
       "\n",
       "    .dataframe thead th {\n",
       "        text-align: right;\n",
       "    }\n",
       "</style>\n",
       "<table border=\"1\" class=\"dataframe\">\n",
       "  <thead>\n",
       "    <tr style=\"text-align: right;\">\n",
       "      <th></th>\n",
       "      <th>ds</th>\n",
       "      <th>y</th>\n",
       "    </tr>\n",
       "  </thead>\n",
       "  <tbody>\n",
       "    <tr>\n",
       "      <th>5032</th>\n",
       "      <td>2000-01-20</td>\n",
       "      <td>106.00</td>\n",
       "    </tr>\n",
       "    <tr>\n",
       "      <th>5031</th>\n",
       "      <td>2000-01-21</td>\n",
       "      <td>103.75</td>\n",
       "    </tr>\n",
       "    <tr>\n",
       "      <th>5030</th>\n",
       "      <td>2000-01-24</td>\n",
       "      <td>101.25</td>\n",
       "    </tr>\n",
       "    <tr>\n",
       "      <th>5029</th>\n",
       "      <td>2000-01-25</td>\n",
       "      <td>102.81</td>\n",
       "    </tr>\n",
       "    <tr>\n",
       "      <th>5028</th>\n",
       "      <td>2000-01-26</td>\n",
       "      <td>99.37</td>\n",
       "    </tr>\n",
       "  </tbody>\n",
       "</table>\n",
       "</div>"
      ],
      "text/plain": [
       "             ds       y\n",
       "5032 2000-01-20  106.00\n",
       "5031 2000-01-21  103.75\n",
       "5030 2000-01-24  101.25\n",
       "5029 2000-01-25  102.81\n",
       "5028 2000-01-26   99.37"
      ]
     },
     "execution_count": 14,
     "metadata": {},
     "output_type": "execute_result"
    }
   ],
   "source": [
    "df_prices = pg.get_prices(av._TIC_MICROSOFT, av._INT_DAILY, None, None, None)\n",
    "\n",
    "df_prices = df_prices[[pg._COL_DATETIME, pg._COL_CLOSE]]\n",
    "\n",
    "df_prices.columns = ['ds', 'y']\n",
    "\n",
    "df_prices.sort_values(by='ds', inplace=True)\n",
    "\n",
    "df_prices.head()"
   ]
  },
  {
   "cell_type": "code",
   "execution_count": 15,
   "metadata": {},
   "outputs": [],
   "source": [
    "df_train, df_test = mdl.train_test_split(df_prices, 0.1)"
   ]
  },
  {
   "cell_type": "code",
   "execution_count": 16,
   "metadata": {},
   "outputs": [
    {
     "data": {
      "text/plain": [
       "((5033, 2), (4530, 2), (503, 2))"
      ]
     },
     "execution_count": 16,
     "metadata": {},
     "output_type": "execute_result"
    }
   ],
   "source": [
    "df_prices.shape, df_train.shape, df_test.shape"
   ]
  },
  {
   "cell_type": "code",
   "execution_count": 17,
   "metadata": {},
   "outputs": [
    {
     "name": "stderr",
     "output_type": "stream",
     "text": [
      "INFO:numexpr.utils:NumExpr defaulting to 4 threads.\n",
      "INFO:fbprophet:Disabling daily seasonality. Run prophet with daily_seasonality=True to override this.\n"
     ]
    },
    {
     "data": {
      "text/plain": [
       "<fbprophet.forecaster.Prophet at 0x27f97d14d08>"
      ]
     },
     "execution_count": 17,
     "metadata": {},
     "output_type": "execute_result"
    }
   ],
   "source": [
    "model = Prophet()\n",
    "\n",
    "model.fit(df_train)"
   ]
  },
  {
   "cell_type": "code",
   "execution_count": 18,
   "metadata": {},
   "outputs": [],
   "source": [
    "close_prices = model.make_future_dataframe(periods=len(df_test))\n",
    "\n",
    "forecast = model.predict(close_prices)"
   ]
  },
  {
   "cell_type": "code",
   "execution_count": 19,
   "metadata": {},
   "outputs": [
    {
     "data": {
      "text/plain": [
       "37.98517305749913"
      ]
     },
     "execution_count": 19,
     "metadata": {},
     "output_type": "execute_result"
    }
   ],
   "source": [
    "forecast_valid = forecast['yhat'][len(df_test) * -1:]\n",
    "\n",
    "rms=np.sqrt(np.mean(np.power((np.array(df_test['y'])-np.array(forecast_valid)),2)))\n",
    "\n",
    "rms"
   ]
  },
  {
   "cell_type": "code",
   "execution_count": null,
   "metadata": {},
   "outputs": [],
   "source": [
    "df_test['predictions'] = 0\n",
    "df_test['predictions'] = forecast_valid.values"
   ]
  },
  {
   "cell_type": "code",
   "execution_count": 26,
   "metadata": {},
   "outputs": [],
   "source": [
    "df_train.set_index('ds', inplace=True)\n",
    "df_test.set_index('ds', inplace=True)"
   ]
  },
  {
   "cell_type": "code",
   "execution_count": 28,
   "metadata": {},
   "outputs": [
    {
     "data": {
      "text/plain": [
       "(                 y\n",
       " ds                \n",
       " 2000-01-20  106.00\n",
       " 2000-01-21  103.75\n",
       " 2000-01-24  101.25\n",
       " 2000-01-25  102.81\n",
       " 2000-01-26   99.37\n",
       " ...            ...\n",
       " 2018-01-16   88.35\n",
       " 2018-01-17   90.14\n",
       " 2018-01-18   90.10\n",
       " 2018-01-19   90.00\n",
       " 2018-01-22   91.61\n",
       " \n",
       " [4530 rows x 1 columns],                  y  predictions\n",
       " ds                             \n",
       " 2018-01-23   91.90    76.851031\n",
       " 2018-01-24   91.82    76.831654\n",
       " 2018-01-25   92.33    76.899937\n",
       " 2018-01-26   94.06    76.851695\n",
       " 2018-01-29   93.92    80.324551\n",
       " ...            ...          ...\n",
       " 2020-01-15  163.18    88.620765\n",
       " 2020-01-16  166.17    88.795448\n",
       " 2020-01-17  167.10    88.855347\n",
       " 2020-01-21  166.50    92.437421\n",
       " 2020-01-22  165.70    92.513126\n",
       " \n",
       " [503 rows x 2 columns])"
      ]
     },
     "execution_count": 28,
     "metadata": {},
     "output_type": "execute_result"
    }
   ],
   "source": [
    "df_train, df_test"
   ]
  },
  {
   "cell_type": "code",
   "execution_count": 30,
   "metadata": {},
   "outputs": [
    {
     "data": {
      "text/plain": [
       "[<matplotlib.lines.Line2D at 0x27f9ede59c8>,\n",
       " <matplotlib.lines.Line2D at 0x27f9eb2a088>]"
      ]
     },
     "execution_count": 30,
     "metadata": {},
     "output_type": "execute_result"
    },
    {
     "data": {
      "image/png": "[encoded data removed]",
      "text/plain": [
       "<Figure size 1152x576 with 1 Axes>"
      ]
     },
     "metadata": {
      "needs_background": "light"
     },
     "output_type": "display_data"
    }
   ],
   "source": [
    "import matplotlib.pyplot as plt\n",
    "\n",
    "plt.figure(figsize=(16,8))\n",
    "\n",
    "plt.plot(df_train['y'])\n",
    "plt.plot(df_test[['y', 'predictions']])"
   ]
  },
  {
   "cell_type": "code",
   "execution_count": null,
   "metadata": {},
   "outputs": [],
   "source": []
  }
 ],
 "metadata": {
  "kernelspec": {
   "display_name": "Python 3",
   "language": "python",
   "name": "python3"
  },
  "language_info": {
   "codemirror_mode": {
    "name": "ipython",
    "version": 3
   },
   "file_extension": ".py",
   "mimetype": "text/x-python",
   "name": "python",
   "nbconvert_exporter": "python",
   "pygments_lexer": "ipython3",
   "version": "3.7.4"
  }
 },
 "nbformat": 4,
 "nbformat_minor": 2
}
